{
 "cells": [
  {
   "cell_type": "code",
   "execution_count": null,
   "id": "7b72063b",
   "metadata": {},
   "outputs": [],
   "source": [
    "# Import packages\n",
    "import numpy as np\n",
    "import matplotlib.pyplot as plt\n",
    "import time\n"
   ]
  },
  {
   "cell_type": "code",
   "execution_count": null,
   "id": "3c62a45a",
   "metadata": {},
   "outputs": [],
   "source": [
    "#Daten eingeben\n",
    "x=np.array([0,1,2,4])\n",
    "y=np.array([2.2,3.1,5,6.1])\n",
    "print(x)\n",
    "print()\n",
    "print(y)"
   ]
  },
  {
   "cell_type": "code",
   "execution_count": null,
   "id": "9f49df83",
   "metadata": {},
   "outputs": [],
   "source": [
    "#Ausgleichsgerade bzw. a und b bestimmen mit Formeln aus der \n",
    "a=(np.mean(x*y)-np.mean(x)*np.mean(y))/(np.mean(x*x)-np.mean(x)**2)\n",
    "b=np.mean(y)-a*np.mean(x)\n",
    "ymodel=a*x+b\n",
    "\n",
    "print()\n",
    "print('a=',a)\n",
    "print()\n",
    "print('b=',b)\n",
    "print()\n"
   ]
  },
  {
   "cell_type": "code",
   "execution_count": null,
   "id": "49c9a8f2",
   "metadata": {},
   "outputs": [],
   "source": [
    "#Messpunkte und Ausgleichsgerade darstellen\n",
    "fig, ax=plt.subplots()\n",
    "ax.plot(x,y,'.b')\n",
    "ax.plot(x,ymodel,'-r')\n",
    "ax.set_xlabel(\"x\")\n",
    "ax.set_ylabel(\"y\")\n",
    "plt.show()"
   ]
  },
  {
   "cell_type": "code",
   "execution_count": null,
   "id": "22b6e1d4",
   "metadata": {},
   "outputs": [],
   "source": [
    "#optimale Parameter speichern\n",
    "a0=a\n",
    "b0=b\n",
    "\n",
    "#Gitter im Parameteraum (a,b) definieren\n",
    "a=np.linspace(0,4,100)\n",
    "b=np.linspace(-5,8,100)\n",
    "A,B= np.meshgrid(a,b)\n",
    "\n",
    "#Abweichungsqudratsumme bestimmen\n",
    "S=np.zeros(A.shape)\n",
    "for n in range(len(x)):\n",
    "    S+=(y[n]*np.ones(A.shape)-A*x[n]-B)**2\n",
    "    "
   ]
  },
  {
   "cell_type": "code",
   "execution_count": null,
   "id": "a3aeff37",
   "metadata": {},
   "outputs": [],
   "source": [
    "##plotting\n",
    "fig, ax=plt.subplots(figsize=(20,10))\n",
    "\n",
    "img=ax.pcolormesh(a,b,np.log(S),cmap='jet',shading='auto')\n",
    "#cmaps viridis, inferno, jet, so\n",
    "#img=ax.imshow(S,extent=[-100, 100,-100,100])\n",
    "cb=fig.colorbar(img)\n",
    "cb.set_label(\"S\",fontsize=20)\n",
    "ax.set_xlabel(\"a\",fontsize=20)\n",
    "ax.set_ylabel(\"b\",fontsize=20)\n",
    "ax.plot(a0,b0,'xr')\n",
    "plt.show()\n",
    "#ax.axis('equal')\n",
    "#ax.set(xlim=(-4,4),ylim=(-4,4))\n",
    "#plt.show()"
   ]
  },
  {
   "cell_type": "code",
   "execution_count": null,
   "id": "fc9dbdae",
   "metadata": {},
   "outputs": [],
   "source": []
  },
  {
   "cell_type": "code",
   "execution_count": null,
   "id": "f22a7627",
   "metadata": {},
   "outputs": [],
   "source": []
  }
 ],
 "metadata": {
  "interpreter": {
   "hash": "64f427ce833c0febc02d8b61c4de7c8a4ac5464cbdb235379c6d9a7e7f3b07e0"
  },
  "kernelspec": {
   "display_name": "Python 3.8.8 64-bit ('base': conda)",
   "language": "python",
   "name": "python3"
  },
  "language_info": {
   "codemirror_mode": {
    "name": "ipython",
    "version": 3
   },
   "file_extension": ".py",
   "mimetype": "text/x-python",
   "name": "python",
   "nbconvert_exporter": "python",
   "pygments_lexer": "ipython3",
   "version": "3.8.8"
  }
 },
 "nbformat": 4,
 "nbformat_minor": 5
}
