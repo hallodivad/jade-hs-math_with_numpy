{
 "cells": [
  {
   "cell_type": "code",
   "execution_count": 27,
   "id": "c4bba3c1",
   "metadata": {},
   "outputs": [],
   "source": [
    "import numpy as np\n",
    "\n",
    "def f(x):\n",
    "    return (1/np.sqrt(2*np.pi))*np.exp(-x**2/2)"
   ]
  },
  {
   "cell_type": "markdown",
   "id": "ae91d285",
   "metadata": {},
   "source": [
    "## Numerische Integration mittels Rechteckregel (Untersumme)"
   ]
  },
  {
   "cell_type": "code",
   "execution_count": 28,
   "id": "e7b0e3da",
   "metadata": {},
   "outputs": [
    {
     "name": "stdout",
     "output_type": "stream",
     "text": [
      "Untersumme:0.682689492120965\n"
     ]
    }
   ],
   "source": [
    "#Integrationsintervall [a,b]\n",
    "a=-1\n",
    "b=1\n",
    "\n",
    "#Anzahl der Stuetzstellen\n",
    "N=100000\n",
    "\n",
    "#Streifenbreite berechnen\n",
    "Dx=(b-a)/N\n",
    "\n",
    "#Stuetzstellen x0=a,x1,x2,... bis xN=b definieren\n",
    "#Achtung ein Pythonarray startet bei 0\n",
    "#Bei der Untersumme wird xN nicht gebraucht\n",
    "k=np.arange(0,N+1)\n",
    "x=a+k*Dx\n",
    "\n",
    "#Summe als Schleife berechnen\n",
    "S=0\n",
    "for k in range(N):\n",
    "        S+=f(x[k])*Dx\n",
    "        \n",
    "print(\"Untersumme:\" + str(S))\n",
    "\n"
   ]
  },
  {
   "cell_type": "markdown",
   "id": "ae1e7cbe",
   "metadata": {},
   "source": [
    "Konvergenz mit N ist sehr langsam! Verbesserungsvorschlaege folgen!"
   ]
  },
  {
   "cell_type": "markdown",
   "id": "965a4c30",
   "metadata": {},
   "source": [
    "## Numerische Integration mittels Trapezregel"
   ]
  },
  {
   "cell_type": "code",
   "execution_count": 29,
   "id": "bd523ebb",
   "metadata": {},
   "outputs": [
    {
     "name": "stdout",
     "output_type": "stream",
     "text": [
      "Untersumme:0.682689492120965\n"
     ]
    }
   ],
   "source": [
    "#Integrationsintervall [a,b]\n",
    "a=-1\n",
    "b=1\n",
    "\n",
    "#Anzahl der Stuetzstellen\n",
    "N=100000\n",
    "\n",
    "#Streifenbreite berechnen\n",
    "Dx=(b-a)/N\n",
    "\n",
    "#Stuetzstellen x0=a,x1,x2,... bis xN=b definieren\n",
    "k=np.arange(0,N+1)\n",
    "x=a+k*Dx\n",
    "\n",
    "#Summe als Schleife berechnen\n",
    "S=0\n",
    "for k in range(N):\n",
    "        S+=f(x[k])*Dx\n",
    "        \n",
    "print(\"Untersumme:\" + str(S))\n"
   ]
  },
  {
   "cell_type": "markdown",
   "id": "e0afecb8",
   "metadata": {},
   "source": [
    "## Verteilungsfunktion der Normalverteilung mittels scipy"
   ]
  },
  {
   "cell_type": "code",
   "execution_count": 34,
   "id": "833fc24b",
   "metadata": {},
   "outputs": [
    {
     "data": {
      "text/plain": [
       "0.8413447460685429"
      ]
     },
     "execution_count": 34,
     "metadata": {},
     "output_type": "execute_result"
    }
   ],
   "source": [
    "import scipy.stats as stats\n",
    "\n",
    "#PHI(1)\n",
    "stats.norm.cdf(1)"
   ]
  },
  {
   "cell_type": "code",
   "execution_count": null,
   "id": "01287f39",
   "metadata": {},
   "outputs": [],
   "source": []
  }
 ],
 "metadata": {
  "kernelspec": {
   "display_name": "Python 3",
   "language": "python",
   "name": "python3"
  },
  "language_info": {
   "codemirror_mode": {
    "name": "ipython",
    "version": 3
   },
   "file_extension": ".py",
   "mimetype": "text/x-python",
   "name": "python",
   "nbconvert_exporter": "python",
   "pygments_lexer": "ipython3",
   "version": "3.8.8"
  }
 },
 "nbformat": 4,
 "nbformat_minor": 5
}
