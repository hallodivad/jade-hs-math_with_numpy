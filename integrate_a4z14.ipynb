{
 "cells": [
  {
   "cell_type": "code",
   "execution_count": 8,
   "id": "c4bba3c1",
   "metadata": {},
   "outputs": [],
   "source": [
    "import numpy as np\n",
    "\n",
    "def f(x):\n",
    "    return x**2"
   ]
  },
  {
   "cell_type": "markdown",
   "id": "ae91d285",
   "metadata": {},
   "source": [
    "## Numerische Integration mittels Rechteckregel (Untersumme)"
   ]
  },
  {
   "cell_type": "code",
   "execution_count": 13,
   "id": "e7b0e3da",
   "metadata": {},
   "outputs": [
    {
     "name": "stdout",
     "output_type": "stream",
     "text": [
      "Untersumme:8.999986500004558\n"
     ]
    }
   ],
   "source": [
    "#Integrationsintervall [a,b]\n",
    "a=0\n",
    "b=3\n",
    "\n",
    "#Anzahl der Stuetzstellen\n",
    "N=1000000\n",
    "\n",
    "#Streifenbreite berechnen\n",
    "Dx=(b-a)/N\n",
    "\n",
    "#Stuetzstellen x0=a,x1,x2,... bis xN=b definieren\n",
    "#Achtung ein Pythonarray startet bei 0\n",
    "#Bei der Untersumme wird xN nicht gebraucht\n",
    "k=np.arange(0,N+1)\n",
    "x=k*Dx\n",
    "\n",
    "#Summe als Schleife berechnen\n",
    "S=0\n",
    "for k in range(N):\n",
    "        S+=f(x[k])*Dx\n",
    "        \n",
    "print(\"Untersumme:\" + str(S))\n",
    "\n"
   ]
  },
  {
   "cell_type": "markdown",
   "id": "ae1e7cbe",
   "metadata": {},
   "source": [
    "Konvergenz mit N ist sehr langsam! Verbesserungsvorschlaege folgen!"
   ]
  },
  {
   "cell_type": "markdown",
   "id": "e7493add",
   "metadata": {},
   "source": [
    "## Numerische Integration mittels Trapezregel"
   ]
  },
  {
   "cell_type": "code",
   "execution_count": 15,
   "id": "bd523ebb",
   "metadata": {},
   "outputs": [
    {
     "name": "stdout",
     "output_type": "stream",
     "text": [
      "Untersumme:8.999986500004558\n"
     ]
    }
   ],
   "source": [
    "#Integrationsintervall [a,b]\n",
    "a=0\n",
    "b=3\n",
    "\n",
    "#Anzahl der Stuetzstellen\n",
    "N=1000000\n",
    "\n",
    "#Streifenbreite berechnen\n",
    "Dx=(b-a)/N\n",
    "\n",
    "#Stuetzstellen x0=a,x1,x2,... bis xN=b definieren\n",
    "k=np.arange(0,N+1)\n",
    "x=k*Dx\n",
    "\n",
    "#Summe als Schleife berechnen\n",
    "S=0\n",
    "for k in range(N):\n",
    "        S+=f(x[k])*Dx\n",
    "        \n",
    "print(\"Untersumme:\" + str(S))\n"
   ]
  },
  {
   "cell_type": "code",
   "execution_count": null,
   "id": "c4f4d780",
   "metadata": {},
   "outputs": [],
   "source": []
  }
 ],
 "metadata": {
  "kernelspec": {
   "display_name": "Python 3",
   "language": "python",
   "name": "python3"
  },
  "language_info": {
   "codemirror_mode": {
    "name": "ipython",
    "version": 3
   },
   "file_extension": ".py",
   "mimetype": "text/x-python",
   "name": "python",
   "nbconvert_exporter": "python",
   "pygments_lexer": "ipython3",
   "version": "3.8.8"
  }
 },
 "nbformat": 4,
 "nbformat_minor": 5
}
