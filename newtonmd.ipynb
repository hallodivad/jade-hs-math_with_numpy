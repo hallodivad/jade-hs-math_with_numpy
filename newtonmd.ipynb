{
 "cells": [
  {
   "cell_type": "code",
   "execution_count": 1,
   "id": "ae2fa58c",
   "metadata": {},
   "outputs": [],
   "source": [
    "import numpy as np"
   ]
  },
  {
   "cell_type": "code",
   "execution_count": 2,
   "id": "80ea87bb",
   "metadata": {},
   "outputs": [],
   "source": [
    "# Definieren der Funktion f als Zeilenvektor (1-dim np array)\n",
    "def f(x):    \n",
    "    f0=x[0]+x[1]**2-5\n",
    "    f1=np.exp(x[0])-3\n",
    "    \n",
    "    return np.array([f0,f1])"
   ]
  },
  {
   "cell_type": "code",
   "execution_count": 3,
   "id": "054d2345",
   "metadata": {},
   "outputs": [],
   "source": [
    "# Definieren der Jacobimatrix f 2x2 np array\n",
    "def Df(x):\n",
    "    df0dx0=1\n",
    "    df0dx1=2*x[1]\n",
    "    df1dx0=np.exp(x[0])\n",
    "    df1dx1=0\n",
    "    \n",
    "    return np.array([[df0dx0, df0dx1],[df1dx0,df1dx1]])"
   ]
  },
  {
   "cell_type": "code",
   "execution_count": 4,
   "id": "267dc64d",
   "metadata": {},
   "outputs": [],
   "source": [
    "#Festlegen des Startpunktes als Zeilenvektor (1-dim np array)\n",
    "xstart=np.array([1,2])\n",
    "\n",
    "#Anzahl der Interationen\n",
    "N=10"
   ]
  },
  {
   "cell_type": "code",
   "execution_count": null,
   "id": "ab80c54c",
   "metadata": {},
   "outputs": [
    {
     "name": "stdout",
     "output_type": "stream",
     "text": [
      "Nach 0 Iterationen: [1 2] mit f(x)= [ 0.         -0.28171817]\n",
      "\n",
      "Nach 1 Iterationen: [1.10363832 1.97409042] mit f(x)= [0.00067131 0.01511606]\n",
      "\n",
      "\n",
      "Nach 2 Iterationen: [1.0986249 1.9751902] mit f(x)= [1.20950979e-06 3.78283762e-05]\n",
      "\n",
      "\n",
      "Nach 3 Iterationen: [1.09861229 1.97519308] mit f(x)= [8.32756086e-12 2.38493669e-10]\n",
      "\n",
      "\n",
      "Nach 4 Iterationen: [1.09861229 1.97519308] mit f(x)= [ 0.0000000e+00 -4.4408921e-16]\n",
      "\n",
      "\n",
      "Nach 5 Iterationen: [1.09861229 1.97519308] mit f(x)= [0.0000000e+00 4.4408921e-16]\n",
      "\n"
     ]
    }
   ],
   "source": [
    "print(\"Nach \" + str(0) + \" Iterationen: \" + str(xstart) + \" mit f(x)= \" + str(f(xstart)))\n",
    "\n",
    "for n in range(N):    \n",
    "    input()\n",
    "    xneu=xstart-f(xstart)@np.transpose(np.linalg.inv(Df(xstart)))\n",
    "    print(\"Nach \" + str(n+1) + \" Iterationen: \" + str(xneu) + \" mit f(x)= \" + str(f(xneu)))\n",
    "    print()\n",
    "    \n",
    "    #print(\"Nach \" + str(n) + \" Iteration(en) erhalten wir xneu=(\" + str(xneu[0]) + \", \" + str(xneu[1]) + \")\" )\n",
    "    #print(\"mit\")\n",
    "    #print(\"f(xneu)= (\" + str(f(xneu)[0]) + \", \" + str(f(xneu)[1]) + \")\" )\n",
    "    xstart=xneu\n",
    "\n",
    "    "
   ]
  },
  {
   "cell_type": "code",
   "execution_count": null,
   "id": "d18120a1",
   "metadata": {},
   "outputs": [],
   "source": []
  },
  {
   "cell_type": "code",
   "execution_count": null,
   "id": "e1488a63",
   "metadata": {},
   "outputs": [],
   "source": []
  }
 ],
 "metadata": {
  "kernelspec": {
   "display_name": "Python 3",
   "language": "python",
   "name": "python3"
  },
  "language_info": {
   "codemirror_mode": {
    "name": "ipython",
    "version": 3
   },
   "file_extension": ".py",
   "mimetype": "text/x-python",
   "name": "python",
   "nbconvert_exporter": "python",
   "pygments_lexer": "ipython3",
   "version": "3.8.8"
  }
 },
 "nbformat": 4,
 "nbformat_minor": 5
}
